{
  "nbformat": 4,
  "nbformat_minor": 0,
  "metadata": {
    "kernelspec": {
      "display_name": "Python 3",
      "language": "python",
      "name": "python3"
    },
    "language_info": {
      "codemirror_mode": {
        "name": "ipython",
        "version": 3
      },
      "file_extension": ".py",
      "mimetype": "text/x-python",
      "name": "python",
      "nbconvert_exporter": "python",
      "pygments_lexer": "ipython3",
      "version": "3.6.8"
    },
    "toc": {
      "base_numbering": 1,
      "nav_menu": {},
      "number_sections": false,
      "sideBar": false,
      "skip_h1_title": false,
      "title_cell": "Table of Contents",
      "title_sidebar": "Contents",
      "toc_cell": false,
      "toc_position": {},
      "toc_section_display": false,
      "toc_window_display": false
    },
    "colab": {
      "provenance": [],
      "collapsed_sections": []
    }
  },
  "cells": [
    {
      "cell_type": "markdown",
      "metadata": {
        "id": "8HhoaZMxrZXZ"
      },
      "source": [
        "# AI-Generated Essay Answers\n",
        "\n",
        "---\n",
        "\n",
        "\n",
        "In this assignment you will consider the design of AI-generated text. Submit your assignment on Gradescope as a single PDF."
      ]
    },
    {
      "cell_type": "markdown",
      "metadata": {
        "id": "bDkESmwsPU2_"
      },
      "source": [
        "## Part 1: Use AI to cheat on last year's final exam. (6 pts)\n",
        "Take a look at last year's [practice final exam](https://docs.google.com/document/d/1phdd7YJCEp1WPF0FIiCtzLe8SvLphrcEB8gdf7ThM1g/edit?usp=sharing). (There won't be a final this year.) Choose one the questions and use an AI text generation tool to compose an answer. Some tools that you could consider using include:\n",
        "- [https://app.inferkit.com/demo](https://app.inferkit.com/demo)\n",
        "- [https://deepai.org/machine-learning-model/text-generator](https://deepai.org/machine-learning-model/text-generator)\n",
        "- [https://transformer.huggingface.co/](https://transformer.huggingface.co/)\n",
        "- [https://www.sudowrite.com/](https://www.sudowrite.com/)\n",
        "- [https://beta.openai.com/playground](https://beta.openai.com/playground) (account required)\n",
        "\n",
        "### 1A: Share your generated answer. (2 pts)\n",
        "\n",
        "### 1B: Is this a good answer? Why or why not? (2 pts)\n",
        "\n",
        "### 1C: Explain the process you used to generate this answer. (2 pts)\n",
        "\n",
        "\n",
        "\n",
        "\n"
      ]
    },
    {
      "cell_type": "markdown",
      "metadata": {
        "id": "nviFxr3-rZXj"
      },
      "source": [
        "## Part 2: Help someone else cheat on an exam. (14 pts)\n",
        "\n",
        "How would you design an interaction around a text-generation model to help someone cheat on an exam?\n",
        "\n",
        "### 2A: Reflecting on your experience in part 1, list at least two user needs that your designs should meet. (2 pts)\n",
        "\n",
        "### 2B: Sketch two (distinct) interactions. For each sketch, you should include a brief explanation of how your design addresses the needs you identified in 2A. (6 pts per sketch)"
      ]
    }
  ]
}